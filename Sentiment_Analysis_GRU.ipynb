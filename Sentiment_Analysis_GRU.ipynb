{
  "nbformat": 4,
  "nbformat_minor": 0,
  "metadata": {
    "colab": {
      "name": "Sentiment_Analysis_GRU",
      "provenance": [],
      "collapsed_sections": []
    },
    "kernelspec": {
      "name": "python3",
      "display_name": "Python 3"
    },
    "language_info": {
      "name": "python"
    }
  },
  "cells": [
    {
      "cell_type": "code",
      "metadata": {
        "colab": {
          "base_uri": "https://localhost:8080/"
        },
        "id": "ocnuqr60kwDc",
        "outputId": "08e6779c-d2cf-44a1-cae4-e940b532477d"
      },
      "source": [
        "from google.colab import drive                                     #mounting the drive to acces the data stored in google drive\n",
        "drive.mount('/content/drive')\n"
      ],
      "execution_count": 1,
      "outputs": [
        {
          "output_type": "stream",
          "text": [
            "Mounted at /content/drive\n"
          ],
          "name": "stdout"
        }
      ]
    },
    {
      "cell_type": "code",
      "metadata": {
        "colab": {
          "base_uri": "https://localhost:8080/"
        },
        "id": "Ktj6cSyWlAZG",
        "outputId": "5fe19181-9a1f-481c-809e-1c23da5ef1bf"
      },
      "source": [
        "!pip install emoji\n",
        "import matplotlib.pyplot as plt  \n",
        "import numpy as np               \n",
        "import pandas as pd                                                #helps in data analysis and manipulation \n",
        "import pickle                                                   \n",
        "import re                                                          # helps in the removal of unwanted characters from sentence eg:(@,#,&,*,...)\n",
        "import emoji                                                       # a python library which tranfroms emoji's to meaningful words \n",
        "from nltk.stem import PorterStemmer as ps                          # reduces infected words to their word stem (eg:finally->final,historical->histori)\n",
        "from tensorflow.keras.preprocessing.text import Tokenizer          # encodes the words to numbers which can be further used by the model to learn and understand them\n",
        "from tensorflow.keras.preprocessing.sequence import pad_sequences  #helps in regularising the lengths of sequences \n",
        "from sklearn.model_selection import train_test_split               #splits the data into training and testing data \n",
        "import tensorflow as tf\n",
        "import keras\n",
        "from keras.metrics import Precision, Recall"
      ],
      "execution_count": 7,
      "outputs": [
        {
          "output_type": "stream",
          "text": [
            "Requirement already satisfied: emoji in /usr/local/lib/python3.7/dist-packages (1.4.1)\n"
          ],
          "name": "stdout"
        }
      ]
    },
    {
      "cell_type": "code",
      "metadata": {
        "id": "GFRsNy8Mle-A"
      },
      "source": [
        "csv_path = \"/content/drive/MyDrive/ENTHIRE/airline_sentiment_analysis.csv\"\n",
        "\n",
        "class airline_data():\n",
        "    def __init__(self,data_dir_path):\n",
        "        self.df = pd.read_csv(data_dir_path)                                        #loading the csv file using pandas\n",
        "        self.df = pd.concat([self.df[\"text\"],self.df[\"airline_sentiment\"]],axis=1) #concatenating the neccesary infromation from the data\n",
        "    \n",
        "    def process_text(self,text):\n",
        "        new_text = text.lower()                                   #making all the characters lower case \n",
        "        new_text = re.sub(r'@\\w+', '', new_text)                  # Remove @s\n",
        "        new_text = re.sub(r'#', '', new_text)                     # Remove hashtags\n",
        "        new_text = re.sub(r':', ' ', emoji.demojize(new_text))    # Turn emojis into words\n",
        "        new_text = re.sub(r'http\\S+', '',new_text)                # Remove URLs\n",
        "        new_text = re.sub(r'\\$\\S+', 'dollar', new_text)           # Change dollar amounts to dollar\n",
        "        new_text = re.sub(r'[^a-z0-9\\s]', '', new_text)           # Remove punctuation\n",
        "        new_text = re.sub(r'[0-9]+', 'number', new_text)          # Change number values to number\n",
        "        new_text = new_text.split(\" \")                            # splits the text into a list of strings after breaking the given text by the specified separator in our case it is \" \".\n",
        "        new_text = list(map(lambda x: ps().stem(x), new_text))    # Stemming the words\n",
        "        new_text = list(map(lambda x: x.strip(), new_text))       # Stripping whitespace from the words\n",
        "        if '' in new_text:\n",
        "            new_text.remove('')\n",
        "        return new_text                                           # returns sentence of words in the form of a list \n",
        "\n",
        "    def preprocess_data(self):\n",
        "      self.Texts = self.df[\"text\"].apply(self.process_text)                                                #cleans all the texts using the process text function\n",
        "      sentiment_ordering = ['negative','positive']\n",
        "      self.labels = self.df[\"airline_sentiment\"].apply(lambda x:sentiment_ordering.index(x))               #converts the positive and negative labels to 1 and 0 respecctively\n",
        "      \n",
        "\n",
        "    def retrieve_vocab_info(self):\n",
        "      self.preprocess_data()\n",
        "      vocabulary = set()\n",
        "      for text in self.Texts:                                                                               #goes through all the words in the data and adds the distinct words to the vocabulary\n",
        "          for word in text:\n",
        "                  vocabulary.add(word)\n",
        "\n",
        "      self.vocab_length = len(vocabulary)   \n",
        "      self.max_seq_length = 0\n",
        "      for text in self.Texts:                                                                               #finds the length of sentence with maximum length out of all the sequences in the Texts.  \n",
        "          if len(text) > self.max_seq_length:\n",
        "              self.max_seq_length = len(text)\n",
        "      return self.vocab_length,self.max_seq_length\n",
        "\n",
        "    def tokenize_words(self):\n",
        "      self.retrieve_vocab_info()                                                                             #retrieves information about the vocabulary length and maximum seqence length  \n",
        "      self.training_sentences,self.testing_sentences,self.y_train,self.y_test = train_test_split(self.Texts,self.labels,train_size=0.7,random_state=10)  #splits the data into training and testing data\n",
        "      tokenizer = Tokenizer(num_words=self.vocab_length,oov_token=\"<OOV>\")  \n",
        "      tokenizer.fit_on_texts(self.training_sentences)                                                        # maps all  distinct words in the training_sentences to numbers \n",
        "      word_index = tokenizer.word_index                                                                      # tokenizer.word_index is dictionary with words as keys and numbers as values formed by fitting the tokenizer on the training sentences\n",
        "      self.training_sequences = tokenizer.texts_to_sequences(self.training_sentences)                        #creates sequences of tokens representing each sentence\n",
        "      self.X_train = pad_sequences(self.training_sequences, maxlen=self.max_seq_length, padding='post')      #pads the sequence with zeros at the end to regularise the length of all the sequences to the maximum sequence length\n",
        "\n",
        "      self.testing_sequences = tokenizer.texts_to_sequences(self.testing_sentences)\n",
        "      self.X_test = pad_sequences(self.testing_sequences, maxlen=self.max_seq_length, padding='post')\n",
        "      \n",
        "      pickle.dump(tokenizer,open(\"/content/drive/MyDrive/ENTHIRE/GRU_Model/tokenizer_file2.pkl\",\"wb\"))       #saving the tokenizer using pickle so it can be used while deploying the model using fastAPI\n",
        "\n",
        "      return self.X_train,self.X_test,self.y_train,self.y_test \n",
        "\n",
        "# DATA LOADING \n",
        "data = airline_data(csv_path)  \n",
        "vocab_length,max_seq_length = data.retrieve_vocab_info()\n",
        "X_train,X_test,y_train,y_test = data.tokenize_words() "
      ],
      "execution_count": 3,
      "outputs": []
    },
    {
      "cell_type": "code",
      "metadata": {
        "id": "yfdM0e0XNMpk"
      },
      "source": [
        "class GRU_Model(keras.Model):\n",
        "  def __init__(self):\n",
        "        super(GRU_Model,self).__init__()\n",
        "        self.embed_layer = tf.keras.layers.Embedding(vocab_length, output_dim = 32, input_length=max_seq_length) #a word embedding where each word in the vocabulary is represented by a 32 dim vector\n",
        "        self.flatten = tf.keras.layers.Flatten()                                                                 # Model A (just a Flatten layer) The Flatten layer is a utility layer that flattens an input of shape (n ,c,h,w) to a simple vector output of shape (n , (c*h*w))\n",
        "        self.gru = tf.keras.layers.GRU(units=32)                                                                 # GRU(Gated Reccurant Units) GRU’s try to solve the vanishing gradient problem that can come with standard recurrent neural networks\n",
        "        self.gru_flatten = tf.keras.layers.Flatten()                                                             # Model B (GRU with a Flatten layer)\n",
        "                                                                                                                 \n",
        "        self.dense = tf.keras.layers.Dense(1, activation='sigmoid')                                               \n",
        "    \n",
        "  def call(self, inputs, training=None):\n",
        "        embed       = self.embed_layer(inputs)\n",
        "        flatten     = self.flatten(embed)\n",
        "        gru         = self.gru(embed)\n",
        "        gru_flatten = self.flatten(gru)\n",
        "        concat      = tf.keras.layers.concatenate([flatten,gru_flatten])                                          # concatenating the final output from model A and model B\n",
        "        out         = self.dense(concat)                                                                          # the concatenated output is feeded into a dense neural network which gives as output a number between (0,1) note: since the sigmoid activation is used the outputs are between (0,1)\n",
        "        return out\n",
        "\n",
        "model = GRU_Model()\n",
        "\n"
      ],
      "execution_count": 12,
      "outputs": []
    },
    {
      "cell_type": "code",
      "metadata": {
        "colab": {
          "base_uri": "https://localhost:8080/"
        },
        "id": "1esM1PQnRFBp",
        "outputId": "b30aa6db-05d8-49d0-ae32-fddff530cb36"
      },
      "source": [
        "model.compile(optimizer=\"adam\",loss=\"binary_crossentropy\", metrics =['accuracy',Precision(), Recall()])                                                                                #since this is a  binary classification binary cross entropy loss was used\n",
        "history = model.fit(X_train,y_train,validation_split=0.2,batch_size=32,epochs=100,\n",
        "                              callbacks=[tf.keras.callbacks.EarlyStopping(monitor='val_loss',patience=3,restore_best_weights=True,verbose=1),tf.keras.callbacks.ReduceLROnPlateau()])  #early stopping stops the training if there is no significant decrease in val_loss for atleast 3 epochs \n",
        "                                                                                                                                                                                       #reduceLROnPlateau its reduces the learning rate when is no significant improvement in val_loss\n",
        "\n",
        "model.save(\"/content/drive/MyDrive/ENTHIRE/GRU_Model/30_model/\")"
      ],
      "execution_count": 13,
      "outputs": [
        {
          "output_type": "stream",
          "text": [
            "Epoch 1/100\n",
            "202/202 [==============================] - 26s 52ms/step - loss: 0.5079 - accuracy: 0.7926 - precision: 0.4593 - recall: 0.0619 - val_loss: 0.3397 - val_accuracy: 0.8533 - val_precision: 0.8438 - val_recall: 0.3890\n",
            "Epoch 2/100\n",
            "202/202 [==============================] - 10s 48ms/step - loss: 0.2943 - accuracy: 0.8782 - precision: 0.8445 - recall: 0.5359 - val_loss: 0.2449 - val_accuracy: 0.9010 - val_precision: 0.8880 - val_recall: 0.6167\n",
            "Epoch 3/100\n",
            "202/202 [==============================] - 10s 47ms/step - loss: 0.1749 - accuracy: 0.9360 - precision: 0.9087 - recall: 0.7723 - val_loss: 0.2169 - val_accuracy: 0.9171 - val_precision: 0.8845 - val_recall: 0.7061\n",
            "Epoch 4/100\n",
            "202/202 [==============================] - 10s 48ms/step - loss: 0.1159 - accuracy: 0.9658 - precision: 0.9492 - recall: 0.8733 - val_loss: 0.2121 - val_accuracy: 0.9165 - val_precision: 0.8510 - val_recall: 0.7406\n",
            "Epoch 5/100\n",
            "202/202 [==============================] - 10s 48ms/step - loss: 0.0873 - accuracy: 0.9740 - precision: 0.9520 - recall: 0.9188 - val_loss: 0.2118 - val_accuracy: 0.9202 - val_precision: 0.8658 - val_recall: 0.7435\n",
            "Epoch 6/100\n",
            "202/202 [==============================] - 10s 48ms/step - loss: 0.0647 - accuracy: 0.9837 - precision: 0.9695 - recall: 0.9467 - val_loss: 0.2217 - val_accuracy: 0.9158 - val_precision: 0.8836 - val_recall: 0.7003\n",
            "Epoch 7/100\n",
            "202/202 [==============================] - 10s 49ms/step - loss: 0.0493 - accuracy: 0.9902 - precision: 0.9845 - recall: 0.9679 - val_loss: 0.2250 - val_accuracy: 0.9165 - val_precision: 0.8605 - val_recall: 0.7291\n",
            "Epoch 8/100\n",
            "202/202 [==============================] - 10s 48ms/step - loss: 0.0355 - accuracy: 0.9936 - precision: 0.9864 - recall: 0.9830 - val_loss: 0.2361 - val_accuracy: 0.9140 - val_precision: 0.8636 - val_recall: 0.7118\n",
            "Restoring model weights from the end of the best epoch.\n",
            "Epoch 00008: early stopping\n",
            "WARNING:tensorflow:Skipping full serialization of Keras layer <tensorflow.python.keras.layers.core.Flatten object at 0x7f20fbbd4a90>, because it is not built.\n"
          ],
          "name": "stdout"
        },
        {
          "output_type": "stream",
          "text": [
            "WARNING:absl:Found untraced functions such as embedding_3_layer_call_and_return_conditional_losses, embedding_3_layer_call_fn, flatten_6_layer_call_and_return_conditional_losses, flatten_6_layer_call_fn, dense_2_layer_call_and_return_conditional_losses while saving (showing 5 of 20). These functions will not be directly callable after loading.\n"
          ],
          "name": "stderr"
        },
        {
          "output_type": "stream",
          "text": [
            "INFO:tensorflow:Assets written to: /content/drive/MyDrive/ENTHIRE/GRU_Model/30_model/assets\n"
          ],
          "name": "stdout"
        },
        {
          "output_type": "stream",
          "text": [
            "INFO:tensorflow:Assets written to: /content/drive/MyDrive/ENTHIRE/GRU_Model/30_model/assets\n"
          ],
          "name": "stderr"
        }
      ]
    },
    {
      "cell_type": "code",
      "metadata": {
        "colab": {
          "base_uri": "https://localhost:8080/"
        },
        "id": "_65NSPcWRLCg",
        "outputId": "b6bb046f-c0d9-4a97-d0a5-8aa9ea6b3e0d"
      },
      "source": [
        "import keras.backend as K\n",
        "def f1_score(precision, recall):\n",
        "    ''' Function to calculate f1 score '''\n",
        "    \n",
        "    f1_val = 2*(precision*recall)/(precision+recall+K.epsilon())\n",
        "    return f1_val\n",
        "loss, accuracy, precision, recall = model.evaluate(X_test, y_test, verbose=0)\n",
        "# Print metrics\n",
        "print('')\n",
        "print('Accuracy  : {:.4f}'.format(accuracy))\n",
        "print('Precision : {:.4f}'.format(precision))\n",
        "print('Recall    : {:.4f}'.format(recall))\n",
        "print('F1 Score  : {:.4f}'.format(f1_score(precision, recall)))"
      ],
      "execution_count": 14,
      "outputs": [
        {
          "output_type": "stream",
          "text": [
            "\n",
            "Accuracy  : 0.9209\n",
            "Precision : 0.8191\n",
            "Recall    : 0.7767\n",
            "F1 Score  : 0.7973\n"
          ],
          "name": "stdout"
        }
      ]
    },
    {
      "cell_type": "code",
      "metadata": {
        "colab": {
          "base_uri": "https://localhost:8080/",
          "height": 295
        },
        "id": "wFTN7aJERPT_",
        "outputId": "2944fb81-2949-4c56-c381-5fb12d07ee53"
      },
      "source": [
        "def plot_training_hist(history):\n",
        "    # '''Function to plot history for accuracy and loss\n",
        "        fig, ax = plt.subplots(1, 2, figsize=(10,4))\n",
        "        # first plot\n",
        "        #plots the training and validation accuracy over all the epochs\n",
        "        ax[0].plot(history.history['accuracy'])\n",
        "        ax[0].plot(history.history['val_accuracy'])\n",
        "        ax[0].set_title('Model Accuracy')\n",
        "        ax[0].set_xlabel('epoch')\n",
        "        ax[0].set_ylabel('accuracy')\n",
        "        ax[0].legend(['train', 'validation'], loc='best')\n",
        "        # second plot\n",
        "        #plots the training and validation loss over all the epochs\n",
        "        ax[1].plot(history.history['loss'])\n",
        "        ax[1].plot(history.history['val_loss'])\n",
        "        ax[1].set_title('Model Loss')\n",
        "        ax[1].set_xlabel('epoch')\n",
        "        ax[1].set_ylabel('loss')\n",
        "        ax[1].legend(['train', 'validation'], loc='best')\n",
        "\n",
        "plot_training_hist(history)"
      ],
      "execution_count": 15,
      "outputs": [
        {
          "output_type": "display_data",
          "data": {
            "image/png": "[encoded data removed]",
            "text/plain": [
              "<Figure size 720x288 with 2 Axes>"
            ]
          },
          "metadata": {
            "tags": [],
            "needs_background": "light"
          }
        }
      ]
    },
    {
      "cell_type": "code",
      "metadata": {
        "id": "TGHi9BYQZhWU"
      },
      "source": [
        ""
      ],
      "execution_count": null,
      "outputs": []
    }
  ]
}