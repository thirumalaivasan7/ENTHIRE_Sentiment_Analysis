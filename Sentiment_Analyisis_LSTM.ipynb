{
  "nbformat": 4,
  "nbformat_minor": 0,
  "metadata": {
    "colab": {
      "name": "Sentiment_Analyisis_LSTM",
      "provenance": []
    },
    "kernelspec": {
      "name": "python3",
      "display_name": "Python 3"
    },
    "language_info": {
      "name": "python"
    },
    "accelerator": "GPU"
  },
  "cells": [
    {
      "cell_type": "code",
      "metadata": {
        "colab": {
          "base_uri": "https://localhost:8080/"
        },
        "id": "2h_3enhTEMHU",
        "outputId": "91660a12-55e7-4823-a630-2f86b32e116b"
      },
      "source": [
        "from google.colab import drive                                     #mounting the drive to acces the data stored in google drive\n",
        "drive.mount('/content/drive')\n"
      ],
      "execution_count": 1,
      "outputs": [
        {
          "output_type": "stream",
          "text": [
            "Mounted at /content/drive\n"
          ],
          "name": "stdout"
        }
      ]
    },
    {
      "cell_type": "code",
      "metadata": {
        "colab": {
          "base_uri": "https://localhost:8080/"
        },
        "id": "oKc0cWuFEjGH",
        "outputId": "b2d4151a-a58f-415c-9276-b18c7c18bfda"
      },
      "source": [
        "!pip install emoji\n",
        "import matplotlib.pyplot as plt  \n",
        "import numpy as np               \n",
        "import pandas as pd                                                #helps in data analysis and manipulation \n",
        "import pickle                                                   \n",
        "import re                                                          # helps in the removal of unwanted characters from sentence eg:(@,#,&,*,...)\n",
        "import emoji                                                       # a python library which tranfroms emoji's to meaningful words \n",
        "from nltk.stem import PorterStemmer as ps                          # reduces infected words to their word stem (eg:finally->final,historical->histori)\n",
        "from tensorflow.keras.preprocessing.text import Tokenizer          # encodes the words to numbers which can be further used by the model to learn and understand them\n",
        "from tensorflow.keras.preprocessing.sequence import pad_sequences  #helps in regularising the lengths of sequences \n",
        "from sklearn.model_selection import train_test_split               #splits the data into training and testing data \n",
        "from keras.models import Sequential\n",
        "from keras.layers import Embedding, Conv1D, MaxPooling1D, Bidirectional, LSTM, Dense, Dropout\n",
        "import tensorflow as tf\n",
        "import keras\n",
        "from keras.metrics import Precision, Recall"
      ],
      "execution_count": 22,
      "outputs": [
        {
          "output_type": "stream",
          "text": [
            "Requirement already satisfied: emoji in /usr/local/lib/python3.7/dist-packages (1.4.1)\n"
          ],
          "name": "stdout"
        }
      ]
    },
    {
      "cell_type": "code",
      "metadata": {
        "id": "dXh_lYqkEo_i"
      },
      "source": [
        "csv_path = \"/content/drive/MyDrive/ENTHIRE/airline_sentiment_analysis.csv\"\n",
        "\n",
        "class airline_data():\n",
        "    def __init__(self,data_dir_path):\n",
        "        self.df = pd.read_csv(data_dir_path)                                        #loading the csv file using pandas\n",
        "        self.df = pd.concat([self.df[\"text\"],self.df[\"airline_sentiment\"]],axis=1) #concatenating the neccesary infromation from the data\n",
        "    \n",
        "    def process_text(self,text):\n",
        "        new_text = text.lower()                                   #making all the characters lower case \n",
        "        new_text = re.sub(r'@\\w+', '', new_text)                  # Remove @s\n",
        "        new_text = re.sub(r'#', '', new_text)                     # Remove hashtags\n",
        "        new_text = re.sub(r':', ' ', emoji.demojize(new_text))    # Turn emojis into words\n",
        "        new_text = re.sub(r'http\\S+', '',new_text)                # Remove URLs\n",
        "        new_text = re.sub(r'\\$\\S+', 'dollar', new_text)           # Change dollar amounts to dollar\n",
        "        new_text = re.sub(r'[^a-z0-9\\s]', '', new_text)           # Remove punctuation\n",
        "        new_text = re.sub(r'[0-9]+', 'number', new_text)          # Change number values to number\n",
        "        new_text = new_text.split(\" \")                            # splits the text into a list of strings after breaking the given text by the specified separator in our case it is \" \".\n",
        "        new_text = list(map(lambda x: ps().stem(x), new_text))    # Stemming the words\n",
        "        new_text = list(map(lambda x: x.strip(), new_text))       # Stripping whitespace from the words\n",
        "        if '' in new_text:\n",
        "            new_text.remove('')\n",
        "        return new_text                                           # returns sentence of words in the form of a list \n",
        "\n",
        "    def preprocess_data(self):\n",
        "      self.Texts = self.df[\"text\"].apply(self.process_text)                                                #cleans all the texts using the process text function\n",
        "      sentiment_ordering = ['negative','positive']\n",
        "      self.labels = self.df[\"airline_sentiment\"].apply(lambda x:sentiment_ordering.index(x))               #converts the positive and negative labels to 1 and 0 respecctively\n",
        "      \n",
        "\n",
        "    def retrieve_vocab_info(self):\n",
        "      self.preprocess_data()\n",
        "      vocabulary = set()\n",
        "      for text in self.Texts:                                                                               #goes through all the words in the data and adds the distinct words to the vocabulary\n",
        "          for word in text:\n",
        "                  vocabulary.add(word)\n",
        "\n",
        "      self.vocab_length = len(vocabulary)   \n",
        "      self.max_seq_length = 0\n",
        "      for text in self.Texts:                                                                               #finds the length of sentence with maximum length out of all the sequences in the Texts.  \n",
        "          if len(text) > self.max_seq_length:\n",
        "              self.max_seq_length = len(text)\n",
        "      return self.vocab_length,self.max_seq_length\n",
        "\n",
        "    def tokenize_words(self):\n",
        "      self.retrieve_vocab_info()                                                                             #retrieves information about the vocabulary length and maximum seqence length  \n",
        "      self.training_sentences,self.testing_sentences,self.y_train,self.y_test = train_test_split(self.Texts,self.labels,train_size=0.7,random_state=10)  #splits the data into training and testing data\n",
        "      tokenizer = Tokenizer(num_words=self.vocab_length,oov_token=\"<OOV>\")  \n",
        "      tokenizer.fit_on_texts(self.training_sentences)                                                        # maps all  distinct words in the training_sentences to numbers \n",
        "      word_index = tokenizer.word_index                                                                      # tokenizer.word_index is dictionary with words as keys and numbers as values formed by fitting the tokenizer on the training sentences\n",
        "      self.training_sequences = tokenizer.texts_to_sequences(self.training_sentences)                        #creates sequences of tokens representing each sentence\n",
        "      self.X_train = pad_sequences(self.training_sequences, maxlen=self.max_seq_length, padding='post')      #pads the sequence with zeros at the end to regularise the length of all the sequences to the maximum sequence length\n",
        "\n",
        "      self.testing_sequences = tokenizer.texts_to_sequences(self.testing_sentences)\n",
        "      self.X_test = pad_sequences(self.testing_sequences, maxlen=self.max_seq_length, padding='post')\n",
        "      \n",
        "      pickle.dump(tokenizer,open(\"/content/drive/MyDrive/ENTHIRE/GRU_Model/tokenizer_file3.pkl\",\"wb\"))       #saving the tokenizer using pickle so it can be used while deploying the model using fastAPI\n",
        "\n",
        "      return self.X_train,self.X_test,self.y_train,self.y_test \n",
        "\n",
        "# DATA LOADING \n",
        "data = airline_data(csv_path)  \n",
        "vocab_length,max_seq_length = data.retrieve_vocab_info()\n",
        "X_train,X_test,y_train,y_test = data.tokenize_words() "
      ],
      "execution_count": 3,
      "outputs": []
    },
    {
      "cell_type": "code",
      "metadata": {
        "id": "be42JPYouOwg"
      },
      "source": [
        "class LSTM_Model(keras.Model):\n",
        "    def __init__(self):\n",
        "        super(LSTM_Model,self).__init__()\n",
        "        self.embed_layer = Embedding(vocab_length, output_dim = 32, input_length=max_seq_length)               # a word embedding where each word in the vocabulary is represented by a 32 dim vector\n",
        "        self.conv1D     = Conv1D(filters=32, kernel_size=3, padding='same', activation='relu')                 # its basically like a 2D convolution operation which is restricted to only one direction the size of each filter here is (3*32) and the filter is convolved with the embedding of the 90 input words  from up to down\n",
        "        self.max_pool1D = MaxPooling1D(pool_size=2)                                                            # MaxPooling1D takes the max over the vectors in the steps dimension(in our case 32)  but constrained to a pool_size for each stride. So a [10, 4, 10] tensor with pooling_size=2 and stride=2 is a [10, 2, 10] tensor after MaxPooling(pooling_size=2, stride=2)\n",
        "        self.bi_LSTM = Bidirectional(LSTM(32))                                                                 # Biderectional-LSTMs train two LSTMs instead of one LSTMs on the input sequence. The first on the input sequence as-is and the other on a reversed copy of the input sequence\n",
        "        self.dropout = Dropout(0.4)                                                                            # to reduce the model from overfitting At every training step, each neuron has a chance of being left out or dropped out of the collated contribution from connected neurons\n",
        "        self.dense = Dense(1, activation='sigmoid')                                                            # the output is then  feeded into a dense neural network which gives as output a number between (0,1) note: since the sigmoid activation is used the outputs are between (0,1)\n",
        "    \n",
        "    def call(self, inputs, training=None):\n",
        "        embed = self.embed_layer(inputs)\n",
        "        conv_out = self.conv1D(embed)\n",
        "        max_out = self.max_pool1D(conv_out)\n",
        "        lstm_out = self.bi_LSTM(max_out)\n",
        "        lstm_out_2 = self.dropout(lstm_out,training=training)\n",
        "        dense_out = self.dense(lstm_out_2)\n",
        "        return dense_out\n",
        "\n",
        "model = LSTM_Model()"
      ],
      "execution_count": 20,
      "outputs": []
    },
    {
      "cell_type": "code",
      "metadata": {
        "colab": {
          "base_uri": "https://localhost:8080/"
        },
        "id": "eus8-NlGF64V",
        "outputId": "0a1c034f-dde5-4b50-eb78-284680a88a40"
      },
      "source": [
        "model.compile(optimizer=\"adam\",loss=\"binary_crossentropy\", metrics =['accuracy',Precision(), Recall()]) \n",
        "history = model.fit(X_train,y_train,validation_split=0.2,batch_size=32,epochs=100,\n",
        "                              callbacks=[tf.keras.callbacks.EarlyStopping(monitor='val_loss',patience=3,restore_best_weights=True,verbose=1),tf.keras.callbacks.ReduceLROnPlateau()])#early stopping stops the training if there is no significant decrease in val_loss for atleast 3 epochs \n",
        "                                                                                                                                                                                     #reduceLROnPlateau its reduces the learning rate when is no significant improvement in val_loss\n",
        "\n",
        "model.save(\"/content/drive/MyDrive/ENTHIRE/LSTM_Model/30_model/\")"
      ],
      "execution_count": 23,
      "outputs": [
        {
          "output_type": "stream",
          "text": [
            "Epoch 1/100\n",
            "202/202 [==============================] - 10s 21ms/step - loss: 0.4958 - accuracy: 0.7861 - precision: 0.4849 - recall: 0.1221 - val_loss: 0.2975 - val_accuracy: 0.8849 - val_precision: 0.9259 - val_recall: 0.5043\n",
            "Epoch 2/100\n",
            "202/202 [==============================] - 3s 14ms/step - loss: 0.1889 - accuracy: 0.9324 - precision: 0.8752 - recall: 0.7893 - val_loss: 0.2263 - val_accuracy: 0.9109 - val_precision: 0.8123 - val_recall: 0.7608\n",
            "Epoch 3/100\n",
            "202/202 [==============================] - 3s 14ms/step - loss: 0.0944 - accuracy: 0.9678 - precision: 0.9325 - recall: 0.9070 - val_loss: 0.2581 - val_accuracy: 0.9097 - val_precision: 0.8628 - val_recall: 0.6888\n",
            "Epoch 4/100\n",
            "202/202 [==============================] - 3s 14ms/step - loss: 0.0671 - accuracy: 0.9815 - precision: 0.9687 - recall: 0.9409 - val_loss: 0.2574 - val_accuracy: 0.9109 - val_precision: 0.8306 - val_recall: 0.7349\n",
            "Epoch 5/100\n",
            "202/202 [==============================] - 3s 14ms/step - loss: 0.0391 - accuracy: 0.9883 - precision: 0.9796 - recall: 0.9650 - val_loss: 0.3143 - val_accuracy: 0.9022 - val_precision: 0.7804 - val_recall: 0.7579\n",
            "Restoring model weights from the end of the best epoch.\n",
            "Epoch 00005: early stopping\n"
          ],
          "name": "stdout"
        },
        {
          "output_type": "stream",
          "text": [
            "WARNING:absl:Found untraced functions such as lstm_cell_25_layer_call_and_return_conditional_losses, lstm_cell_25_layer_call_fn, lstm_cell_26_layer_call_and_return_conditional_losses, lstm_cell_26_layer_call_fn, lstm_cell_25_layer_call_fn while saving (showing 5 of 10). These functions will not be directly callable after loading.\n"
          ],
          "name": "stderr"
        },
        {
          "output_type": "stream",
          "text": [
            "INFO:tensorflow:Assets written to: /content/drive/MyDrive/ENTHIRE/LSTM_Model/30_model/assets\n"
          ],
          "name": "stdout"
        },
        {
          "output_type": "stream",
          "text": [
            "INFO:tensorflow:Assets written to: /content/drive/MyDrive/ENTHIRE/LSTM_Model/30_model/assets\n"
          ],
          "name": "stderr"
        }
      ]
    },
    {
      "cell_type": "code",
      "metadata": {
        "colab": {
          "base_uri": "https://localhost:8080/"
        },
        "id": "-dorGKJBLCAZ",
        "outputId": "d65ca71b-4d7c-4bc0-fd5d-f36cfa6d5914"
      },
      "source": [
        "import keras.backend as K\n",
        "def f1_score(precision, recall):\n",
        "    ''' Function to calculate f1 score '''\n",
        "    \n",
        "    f1_val = 2*(precision*recall)/(precision+recall+K.epsilon())\n",
        "    return f1_val\n",
        "loss, accuracy, precision, recall = model.evaluate(X_test, y_test, verbose=0)\n",
        "# Print metrics\n",
        "print('')\n",
        "print('Accuracy  : {:.4f}'.format(accuracy))\n",
        "print('Precision : {:.4f}'.format(precision))\n",
        "print('Recall    : {:.4f}'.format(recall))\n",
        "print('F1 Score  : {:.4f}'.format(f1_score(precision, recall)))"
      ],
      "execution_count": 25,
      "outputs": [
        {
          "output_type": "stream",
          "text": [
            "\n",
            "Accuracy  : 0.9209\n",
            "Precision : 0.8125\n",
            "Recall    : 0.7867\n",
            "F1 Score  : 0.7994\n"
          ],
          "name": "stdout"
        }
      ]
    },
    {
      "cell_type": "code",
      "metadata": {
        "colab": {
          "base_uri": "https://localhost:8080/",
          "height": 295
        },
        "id": "30dOgAdjHYO6",
        "outputId": "5cc5fafb-8d6a-4d4f-c5c4-502dcb71a38f"
      },
      "source": [
        "def plot_training_hist(history):\n",
        "    # '''Function to plot history for accuracy and loss\n",
        "        fig, ax = plt.subplots(1, 2, figsize=(10,4))\n",
        "        # first plot\n",
        "        #plots the training and validation accuracy over all the epochs\n",
        "        ax[0].plot(history.history['accuracy'])\n",
        "        ax[0].plot(history.history['val_accuracy'])\n",
        "        ax[0].set_title('Model Accuracy')\n",
        "        ax[0].set_xlabel('epoch')\n",
        "        ax[0].set_ylabel('accuracy')\n",
        "        ax[0].legend(['train', 'validation'], loc='best')\n",
        "        # second plot\n",
        "        #plots the training and validation loss over all the epochs\n",
        "        ax[1].plot(history.history['loss'])\n",
        "        ax[1].plot(history.history['val_loss'])\n",
        "        ax[1].set_title('Model Loss')\n",
        "        ax[1].set_xlabel('epoch')\n",
        "        ax[1].set_ylabel('loss')\n",
        "        ax[1].legend(['train', 'validation'], loc='best')\n",
        "\n",
        "plot_training_hist(history)"
      ],
      "execution_count": 26,
      "outputs": [
        {
          "output_type": "display_data",
          "data": {
            "image/png": "[encoded data removed]",
            "text/plain": [
              "<Figure size 720x288 with 2 Axes>"
            ]
          },
          "metadata": {
            "tags": [],
            "needs_background": "light"
          }
        }
      ]
    }
  ]
}